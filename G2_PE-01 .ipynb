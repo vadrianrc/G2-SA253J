{
 "cells": [
  {
   "cell_type": "markdown",
   "id": "029c831d",
   "metadata": {},
   "source": [
    "<img src=\"Banner_Jupyter.png\" style=\"width:1200px;height:90px\">"
   ]
  },
  {
   "cell_type": "markdown",
   "id": "0d1a7fe8",
   "metadata": {},
   "source": [
    "<FONT COLOR=\"#243DD7\"><h1><b>PE-01 Sistema de Abastecimiento de Agua</b></h1></FONT>"
   ]
  },
  {
   "cell_type": "markdown",
   "id": "cde926ed",
   "metadata": {},
   "source": [
    "<em><b><p style=\"text-align:right\">Beltrán, Reyes & Rosales - Grupo 2 - SA253J (2023-II) - FIC - UNI</p></b></em>"
   ]
  },
  {
   "cell_type": "markdown",
   "id": "7143af43",
   "metadata": {},
   "source": [
    "<FONT COLOR=\"#243DD7\"><center><b><u><h3>PROYECTO</h3></u></b></center></FONT>\n",
    "<center><b>MEJORAMIENTO DEL SISTEMA DE AGUA POTABLE Y ALCANTARILLADO DE LA LOCALIDAD DE PUSACPAMPA, DISTRITO DE COMAS - DISTRITO DE COMAS - <br>PROVINCIA DE CONCEPCION - REGIÓN JUNÍN</b></center>"
   ]
  },
  {
   "cell_type": "markdown",
   "id": "499bfc5f",
   "metadata": {},
   "source": [
    "## <FONT COLOR=\"#243DD7\">Ubicación del proyecto</FONT>"
   ]
  },
  {
   "cell_type": "markdown",
   "id": "f028884f",
   "metadata": {},
   "source": [
    "* <b>Departamento</b><br>\n",
    "&nbsp;&nbsp;&nbsp;&nbsp;&nbsp;&nbsp;&nbsp;&nbsp;&nbsp;Junín\n",
    "* <b>Provincia</b><br>\n",
    "&nbsp;&nbsp;&nbsp;&nbsp;&nbsp;&nbsp;&nbsp;&nbsp;&nbsp;Concepción\n",
    "* <b>Distrito</b><br>\n",
    "&nbsp;&nbsp;&nbsp;&nbsp;&nbsp;&nbsp;&nbsp;&nbsp;&nbsp;Comas\n",
    "* <b>Localidad</b><br>\n",
    "&nbsp;&nbsp;&nbsp;&nbsp;&nbsp;&nbsp;&nbsp;&nbsp;&nbsp;Pusacpampa"
   ]
  },
  {
   "cell_type": "markdown",
   "id": "a0c612d3",
   "metadata": {},
   "source": [
    "## <FONT COLOR=\"#243DD7\">Mapa interactivo</FONT>"
   ]
  },
  {
   "cell_type": "code",
   "execution_count": 1,
   "id": "692b0657",
   "metadata": {
    "hideCode": true,
    "hidePrompt": true
   },
   "outputs": [
    {
     "data": {
      "text/html": [
       "<div style=\"width:100%;\"><div style=\"position:relative;width:100%;height:0;padding-bottom:60%;\"><span style=\"color:#565656\">Make this Notebook Trusted to load map: File -> Trust Notebook</span><iframe srcdoc=\"&lt;!DOCTYPE html&gt;\n",
       "&lt;html&gt;\n",
       "&lt;head&gt;\n",
       "    \n",
       "    &lt;meta http-equiv=&quot;content-type&quot; content=&quot;text/html; charset=UTF-8&quot; /&gt;\n",
       "    \n",
       "        &lt;script&gt;\n",
       "            L_NO_TOUCH = false;\n",
       "            L_DISABLE_3D = false;\n",
       "        &lt;/script&gt;\n",
       "    \n",
       "    &lt;style&gt;html, body {width: 100%;height: 100%;margin: 0;padding: 0;}&lt;/style&gt;\n",
       "    &lt;style&gt;#map {position:absolute;top:0;bottom:0;right:0;left:0;}&lt;/style&gt;\n",
       "    &lt;script src=&quot;https://cdn.jsdelivr.net/npm/leaflet@1.9.3/dist/leaflet.js&quot;&gt;&lt;/script&gt;\n",
       "    &lt;script src=&quot;https://code.jquery.com/jquery-3.7.1.min.js&quot;&gt;&lt;/script&gt;\n",
       "    &lt;script src=&quot;https://cdn.jsdelivr.net/npm/bootstrap@5.2.2/dist/js/bootstrap.bundle.min.js&quot;&gt;&lt;/script&gt;\n",
       "    &lt;script src=&quot;https://cdnjs.cloudflare.com/ajax/libs/Leaflet.awesome-markers/2.0.2/leaflet.awesome-markers.js&quot;&gt;&lt;/script&gt;\n",
       "    &lt;link rel=&quot;stylesheet&quot; href=&quot;https://cdn.jsdelivr.net/npm/leaflet@1.9.3/dist/leaflet.css&quot;/&gt;\n",
       "    &lt;link rel=&quot;stylesheet&quot; href=&quot;https://cdn.jsdelivr.net/npm/bootstrap@5.2.2/dist/css/bootstrap.min.css&quot;/&gt;\n",
       "    &lt;link rel=&quot;stylesheet&quot; href=&quot;https://netdna.bootstrapcdn.com/bootstrap/3.0.0/css/bootstrap.min.css&quot;/&gt;\n",
       "    &lt;link rel=&quot;stylesheet&quot; href=&quot;https://cdn.jsdelivr.net/npm/@fortawesome/fontawesome-free@6.2.0/css/all.min.css&quot;/&gt;\n",
       "    &lt;link rel=&quot;stylesheet&quot; href=&quot;https://cdnjs.cloudflare.com/ajax/libs/Leaflet.awesome-markers/2.0.2/leaflet.awesome-markers.css&quot;/&gt;\n",
       "    &lt;link rel=&quot;stylesheet&quot; href=&quot;https://cdn.jsdelivr.net/gh/python-visualization/folium/folium/templates/leaflet.awesome.rotate.min.css&quot;/&gt;\n",
       "    \n",
       "            &lt;meta name=&quot;viewport&quot; content=&quot;width=device-width,\n",
       "                initial-scale=1.0, maximum-scale=1.0, user-scalable=no&quot; /&gt;\n",
       "            &lt;style&gt;\n",
       "                #map_ad439f232c2aef0f1c5aec3c732fd22b {\n",
       "                    position: relative;\n",
       "                    width: 100.0%;\n",
       "                    height: 100.0%;\n",
       "                    left: 0.0%;\n",
       "                    top: 0.0%;\n",
       "                }\n",
       "                .leaflet-container { font-size: 1rem; }\n",
       "            &lt;/style&gt;\n",
       "        \n",
       "    &lt;script src=&quot;https://cdn.jsdelivr.net/npm/leaflet.fullscreen@3.0.0/Control.FullScreen.min.js&quot;&gt;&lt;/script&gt;\n",
       "    &lt;link rel=&quot;stylesheet&quot; href=&quot;https://cdn.jsdelivr.net/npm/leaflet.fullscreen@3.0.0/Control.FullScreen.css&quot;/&gt;\n",
       "&lt;/head&gt;\n",
       "&lt;body&gt;\n",
       "    \n",
       "    \n",
       "            &lt;div class=&quot;folium-map&quot; id=&quot;map_ad439f232c2aef0f1c5aec3c732fd22b&quot; &gt;&lt;/div&gt;\n",
       "        \n",
       "&lt;/body&gt;\n",
       "&lt;script&gt;\n",
       "    \n",
       "    \n",
       "            var map_ad439f232c2aef0f1c5aec3c732fd22b = L.map(\n",
       "                &quot;map_ad439f232c2aef0f1c5aec3c732fd22b&quot;,\n",
       "                {\n",
       "                    center: [-11.739408, -75.068589],\n",
       "                    crs: L.CRS.EPSG3857,\n",
       "                    zoom: 16,\n",
       "                    zoomControl: true,\n",
       "                    preferCanvas: false,\n",
       "                }\n",
       "            );\n",
       "\n",
       "            \n",
       "\n",
       "        \n",
       "    \n",
       "            var tile_layer_e94ae0b7a9611f975eb843bdb6cf78e4 = L.tileLayer(\n",
       "                &quot;https://{s}.tile.openstreetmap.org/{z}/{x}/{y}.png&quot;,\n",
       "                {&quot;attribution&quot;: &quot;Data by \\u0026copy; \\u003ca target=\\&quot;_blank\\&quot; href=\\&quot;http://openstreetmap.org\\&quot;\\u003eOpenStreetMap\\u003c/a\\u003e, under \\u003ca target=\\&quot;_blank\\&quot; href=\\&quot;http://www.openstreetmap.org/copyright\\&quot;\\u003eODbL\\u003c/a\\u003e.&quot;, &quot;detectRetina&quot;: false, &quot;maxNativeZoom&quot;: 18, &quot;maxZoom&quot;: 18, &quot;minZoom&quot;: 0, &quot;noWrap&quot;: false, &quot;opacity&quot;: 1, &quot;subdomains&quot;: &quot;abc&quot;, &quot;tms&quot;: false}\n",
       "            );\n",
       "        \n",
       "    \n",
       "                tile_layer_e94ae0b7a9611f975eb843bdb6cf78e4.addTo(map_ad439f232c2aef0f1c5aec3c732fd22b);\n",
       "    \n",
       "            var tile_layer_f1e85ffdcc9493678f3537f2b055592d = L.tileLayer(\n",
       "                &quot;https://mt1.google.com/vt/lyrs=y\\u0026x={x}\\u0026y={y}\\u0026z={z}&quot;,\n",
       "                {&quot;attribution&quot;: &quot;Google&quot;, &quot;detectRetina&quot;: false, &quot;maxNativeZoom&quot;: 18, &quot;maxZoom&quot;: 18, &quot;minZoom&quot;: 0, &quot;noWrap&quot;: false, &quot;opacity&quot;: 1, &quot;subdomains&quot;: &quot;abc&quot;, &quot;tms&quot;: false}\n",
       "            );\n",
       "        \n",
       "    \n",
       "                tile_layer_f1e85ffdcc9493678f3537f2b055592d.addTo(map_ad439f232c2aef0f1c5aec3c732fd22b);\n",
       "    \n",
       "            var layer_control_c19af261e19f7b633b5a9af92edd133f_layers = {\n",
       "                base_layers : {\n",
       "                    &quot;openstreetmap&quot; : tile_layer_e94ae0b7a9611f975eb843bdb6cf78e4,\n",
       "                },\n",
       "                overlays :  {\n",
       "                    &quot;Google Satellite&quot; : tile_layer_f1e85ffdcc9493678f3537f2b055592d,\n",
       "                },\n",
       "            };\n",
       "            let layer_control_c19af261e19f7b633b5a9af92edd133f = L.control.layers(\n",
       "                layer_control_c19af261e19f7b633b5a9af92edd133f_layers.base_layers,\n",
       "                layer_control_c19af261e19f7b633b5a9af92edd133f_layers.overlays,\n",
       "                {&quot;autoZIndex&quot;: true, &quot;collapsed&quot;: true, &quot;position&quot;: &quot;topright&quot;}\n",
       "            ).addTo(map_ad439f232c2aef0f1c5aec3c732fd22b);\n",
       "\n",
       "        \n",
       "    \n",
       "            L.control.fullscreen(\n",
       "                {&quot;forceSeparateButton&quot;: false, &quot;position&quot;: &quot;topleft&quot;, &quot;title&quot;: &quot;Full Screen&quot;, &quot;titleCancel&quot;: &quot;Exit Full Screen&quot;}\n",
       "            ).addTo(map_ad439f232c2aef0f1c5aec3c732fd22b);\n",
       "        \n",
       "    \n",
       "                var lat_lng_popup_d7c39deca58f26714fe084969ae129e7 = L.popup();\n",
       "                function latLngPop(e) {\n",
       "                    lat_lng_popup_d7c39deca58f26714fe084969ae129e7\n",
       "                        .setLatLng(e.latlng)\n",
       "                        .setContent(&quot;Latitude: &quot; + e.latlng.lat.toFixed(4) +\n",
       "                                    &quot;&lt;br&gt;Longitude: &quot; + e.latlng.lng.toFixed(4))\n",
       "                        .openOn(map_ad439f232c2aef0f1c5aec3c732fd22b);\n",
       "                    }\n",
       "                map_ad439f232c2aef0f1c5aec3c732fd22b.on(&#x27;click&#x27;, latLngPop);\n",
       "            \n",
       "&lt;/script&gt;\n",
       "&lt;/html&gt;\" style=\"position:absolute;width:100%;height:100%;left:0;top:0;border:none !important;\" allowfullscreen webkitallowfullscreen mozallowfullscreen></iframe></div></div>"
      ],
      "text/plain": [
       "<folium.folium.Map at 0x270b58731d0>"
      ]
     },
     "execution_count": 1,
     "metadata": {},
     "output_type": "execute_result"
    }
   ],
   "source": [
    "import ee\n",
    "import folium\n",
    "import geehydro\n",
    "Map = folium.Map(location=[-11.739408, -75.068589], zoom_start=16)\n",
    "Map.setOptions('HYBRID')\n",
    "Map.setControlVisibility(layerControl=True, fullscreenControl=True, latLngPopup=True)\n",
    "Map"
   ]
  },
  {
   "cell_type": "markdown",
   "id": "7cfda1f3",
   "metadata": {},
   "source": [
    "El proyecto de abastecimiento de agua potable contempla la construcción de 2 tomas ladera para manantiales con las respectivas conducciones hasta la cámara de reunión proyectada, una línea de conducción, un reservorio, cámaras rompe presión tipo 06 donde se requieran en el tramo de la línea, línea de distribución, pase aéreo y sistema de distribución."
   ]
  },
  {
   "cell_type": "markdown",
   "id": "b73d8c45",
   "metadata": {},
   "source": [
    "# <FONT COLOR=\"#243DD7\"><b> Aspectos Iniciales del Diseño</b></FONT>"
   ]
  },
  {
   "cell_type": "markdown",
   "id": "cf444aa2",
   "metadata": {},
   "source": [
    "<FONT COLOR=\"#243DD7\"><h2> 1. Requerimientos para Solicitud de Licencia de Uso de Agua</h2></FONT>"
   ]
  },
  {
   "cell_type": "markdown",
   "id": "f5762292",
   "metadata": {},
   "source": [
    "Para obtener la <b>Licencia de Uso de Agua</b> nos regimos bajo el procedimiento y los requerimientos especificados en el <b>Reglamento de Procedimientos Administrativos para el Otorgamiento de Derechos de Uso de Agua</b> brindado por la Autoridad Nacional del Agua, la cual nos indica que para obtener la licencia de uso de agua superficial debemos seguir los siguientes procedimientos administrativos:"
   ]
  },
  {
   "cell_type": "markdown",
   "id": "0634f3a0",
   "metadata": {},
   "source": [
    "* Inicio del trámite para licencia de uso de agua con obras\n",
    "* Acreditación de Disponibilidad Hídrica\n",
    "* Autorización de Ejecución de Obras de Aprovechamiento Hídrico"
   ]
  },
  {
   "cell_type": "markdown",
   "id": "26e97d20",
   "metadata": {},
   "source": [
    "Tanto la acreditación como la autorización deben ser respondidos por la Autoridad Administrativa del Agua para poder realizar el informe final de solicitud de licencia de Agua."
   ]
  },
  {
   "cell_type": "markdown",
   "id": "d9a05dcf",
   "metadata": {},
   "source": [
    "Para conocimiento de cualquier interesado se adjunta el procedimiento descrito por la Autoridad Nacional del Agua."
   ]
  },
  {
   "cell_type": "code",
   "execution_count": 2,
   "id": "e2c59261",
   "metadata": {
    "hideCode": true,
    "hidePrompt": true
   },
   "outputs": [
    {
     "data": {
      "text/html": [
       "\n",
       "        <iframe\n",
       "            width=\"860\"\n",
       "            height=\"500\"\n",
       "            src=\"Procedimiento ANA.pdf\"\n",
       "            frameborder=\"0\"\n",
       "            allowfullscreen\n",
       "            \n",
       "        ></iframe>\n",
       "        "
      ],
      "text/plain": [
       "<IPython.lib.display.IFrame at 0x270b8c6ef10>"
      ]
     },
     "execution_count": 2,
     "metadata": {},
     "output_type": "execute_result"
    }
   ],
   "source": [
    "from IPython.display import IFrame\n",
    "IFrame(\"Procedimiento ANA.pdf\", width=860, height=500)"
   ]
  },
  {
   "cell_type": "markdown",
   "id": "75881910",
   "metadata": {},
   "source": [
    "## <FONT COLOR=\"#243DD7\">2. Diseño de toma a nivel de perfil</FONT>\n"
   ]
  },
  {
   "cell_type": "markdown",
   "id": "55e8a96c",
   "metadata": {},
   "source": [
    "### <FONT COLOR=\"#243DD7\">Identificación de Fuentes para el proyecto y su caudal</FONT>"
   ]
  },
  {
   "cell_type": "markdown",
   "id": "ce85e2a6",
   "metadata": {},
   "source": [
    "Se identifican dos fuentes de agua como alternativas para el abastecimiento de agua de la localidad Pusacpampa. Para la identificación de estos manantiales, se les asignó denominaciones. Estos manantiales presentan la siguiente ubicación:"
   ]
  },
  {
   "cell_type": "markdown",
   "id": "73a4a410",
   "metadata": {},
   "source": [
    "* <b>Manantial Pusacpampa 1</b><br>\n",
    "\n",
    "| Norte | Este | Cota (msnm) | Proyección |\n",
    "| --- | --- | --- | --- |\n",
    "| 8702572.77 | 493772.50 | 3619.70 | UTM WGS-84 Zona-18S |"
   ]
  },
  {
   "cell_type": "markdown",
   "id": "62282bd0",
   "metadata": {},
   "source": [
    "* <b>Manantial Pusacpampa 2</b><br>\n",
    "\n",
    "| Norte | Este | Cota (msnm) | Proyección |\n",
    "| --- | --- | --- | --- |\n",
    "| 8702572.04 | 493813.97 | 3620.28 | UTM WGS-84 Zona-18S |"
   ]
  },
  {
   "cell_type": "markdown",
   "id": "61e7eb19",
   "metadata": {},
   "source": [
    "### <FONT COLOR=\"#243DD7\">Prueba de Aforo</FONT>"
   ]
  },
  {
   "cell_type": "markdown",
   "id": "554c8b32",
   "metadata": {},
   "source": [
    "Para efectuar la prueba de aforo se utilizó el método de aforo volumétrico, que permite medir caudales menores de 5.00 l/s, para ello ha sido necesario contar con un depósito (balde), de volumen conocido (4 litros) para la colecta del agua, anotando el tiempo que demora en llenarse. Esta operación se realizó diariamente durante 3 meses con la finalidad de obtener resultados más conservadores.<br>\n",
    "<br><b>(RESOLUCION JEFATURAL N° 251 - 2013 - ANA, Articulo 1°. - Aprobación de la Guía Metodológica para Inspecciones Oculares)</b>"
   ]
  },
  {
   "cell_type": "markdown",
   "id": "a1c39262",
   "metadata": {},
   "source": [
    "#### <FONT COLOR=\"#243DD7\">Prueba de aforo en Manantial Pusacpampa 1</FONT>\n",
    "<center><img src=\"aforo_pusacpampa_1.png\" style=\"width:500px;height:600px\"></center>"
   ]
  },
  {
   "cell_type": "markdown",
   "id": "58ecf00e",
   "metadata": {},
   "source": [
    "#### <FONT COLOR=\"#243DD7\">Prueba de aforo en Manantial Pusacpampa 2</FONT>\n",
    "<center><img src=\"aforo_pusacpampa_2.png\" style=\"width:500px;height:600px\"></center>"
   ]
  },
  {
   "cell_type": "markdown",
   "id": "1ab1965a",
   "metadata": {},
   "source": [
    "#### <FONT COLOR=\"#243DD7\">Caudal disponible</FONT>\n",
    "* El caudal promedio en Pusacpampa 1 disponible en la fuente es de 0.83 lt/s.\n",
    "* El caudal promedio en Pusacpampa 2 disponible en la fuente es de 0.78 lt/s."
   ]
  },
  {
   "cell_type": "markdown",
   "id": "77b5a46d",
   "metadata": {},
   "source": [
    "### <FONT COLOR=\"#243DD7\">Puntos importantes del diseño</FONT>\n",
    "* Cada afloramiento de los manantiales Pusacpampa 1 y Pusacpampa 2 sustenta la sostenibilidad de la producción de agua en el tiempo y se considera como alternativa viable para el abastecimiento de la demanda poblacional al 100%.\n",
    "* Se maneja la posibilidad de reunir ambos manantiales para el proyecto empleando la construcción de una cámara de reunión a fin de garantizar el abastecmiento de agua potable a la población proyectando el crecimiento de la misma y consecuente mayor demanda del recurso hídrico.\n",
    "* La toma debe contemplar el proceso inicial de captación por medio del filtrado con capas de arena gruesa, grava media y grava gruesa.\n",
    "* La captación contará con tres zonas claramente marcadas: la captación propiamente dicha, la cámara húmeda y la cámara de válvulas.\n",
    "* El material de construcción para las tomas será de concreto armado. El espesor de la cámara de válvulas será de 10 cm, en el resto de elementos, será de 15 cm.\n",
    "* La toma contemplará la salida y tubería de rebose.\n",
    "* Ambas fuentes de agua serán trabajadas de la misma manera, es decir, se empleará captación de ladera para ambos manantiales."
   ]
  },
  {
   "cell_type": "markdown",
   "id": "173c07b5",
   "metadata": {},
   "source": [
    "### <FONT COLOR=\"#243DD7\">Diseño a nivel de perfil</FONT>\n",
    "Con los lineamientos presentados, se realizó el cálculo preliminar respecto a las dimensiones de las tomas y finalmente se realizan los esquemas en planta y cortes transversales."
   ]
  },
  {
   "cell_type": "markdown",
   "id": "8ccf4897",
   "metadata": {},
   "source": [
    "#### <FONT COLOR=\"#243DD7\">Diseño de captación Pusacpampa 1</FONT>"
   ]
  },
  {
   "cell_type": "code",
   "execution_count": 3,
   "id": "3c264965",
   "metadata": {
    "hideCode": true,
    "hidePrompt": true
   },
   "outputs": [
    {
     "data": {
      "text/html": [
       "\n",
       "        <iframe\n",
       "            width=\"860\"\n",
       "            height=\"500\"\n",
       "            src=\"diseno_toma_1.pdf\"\n",
       "            frameborder=\"0\"\n",
       "            allowfullscreen\n",
       "            \n",
       "        ></iframe>\n",
       "        "
      ],
      "text/plain": [
       "<IPython.lib.display.IFrame at 0x270b8cbd050>"
      ]
     },
     "execution_count": 3,
     "metadata": {},
     "output_type": "execute_result"
    }
   ],
   "source": [
    "from IPython.display import IFrame\n",
    "IFrame(\"diseno_toma_1.pdf\", width=860, height=500)"
   ]
  },
  {
   "cell_type": "markdown",
   "id": "0874f3f8",
   "metadata": {},
   "source": [
    "#### <FONT COLOR=\"#243DD7\">Diseño de captación Pusacpampa 2</FONT>"
   ]
  },
  {
   "cell_type": "code",
   "execution_count": 4,
   "id": "b650e7b9",
   "metadata": {
    "hideCode": true,
    "hidePrompt": true,
    "scrolled": false
   },
   "outputs": [
    {
     "data": {
      "text/html": [
       "\n",
       "        <iframe\n",
       "            width=\"860\"\n",
       "            height=\"500\"\n",
       "            src=\"diseno_toma_2.pdf\"\n",
       "            frameborder=\"0\"\n",
       "            allowfullscreen\n",
       "            \n",
       "        ></iframe>\n",
       "        "
      ],
      "text/plain": [
       "<IPython.lib.display.IFrame at 0x270b8c81110>"
      ]
     },
     "execution_count": 4,
     "metadata": {},
     "output_type": "execute_result"
    }
   ],
   "source": [
    "from IPython.display import IFrame\n",
    "IFrame(\"diseno_toma_2.pdf\", width=860, height=500)"
   ]
  },
  {
   "cell_type": "markdown",
   "id": "0cfbddbf",
   "metadata": {},
   "source": [
    "<b>Descarga de hoja de cálculo</b>"
   ]
  },
  {
   "cell_type": "code",
   "execution_count": 5,
   "id": "98ca3906",
   "metadata": {
    "hideCode": true,
    "hidePrompt": true
   },
   "outputs": [
    {
     "data": {
      "text/html": [
       "<a href='CH Captacion Lateral Típica.xlsx' target='_blank'>CH Captacion Lateral Típica.xlsx</a><br>"
      ],
      "text/plain": [
       "C:\\Users\\USUARIO\\Documents\\Jupyter Notebooks\\SA253J 23-2\\CH Captacion Lateral Típica.xlsx"
      ]
     },
     "execution_count": 5,
     "metadata": {},
     "output_type": "execute_result"
    }
   ],
   "source": [
    "from IPython.display import FileLink, FileLinks\n",
    "FileLink('CH Captacion Lateral Típica.xlsx')"
   ]
  },
  {
   "cell_type": "markdown",
   "id": "2af5d052",
   "metadata": {},
   "source": [
    "#### <FONT COLOR=\"#243DD7\">Esquema de las tomas</FONT>\n",
    "Debido a que ambos diseños resultaron equivalentes, los detalles constructivos para ambas tomas son los mismos, por tal razón, se presenta el único plano."
   ]
  },
  {
   "cell_type": "code",
   "execution_count": 6,
   "id": "ace4a024",
   "metadata": {
    "hideCode": true,
    "hidePrompt": true,
    "scrolled": false
   },
   "outputs": [
    {
     "data": {
      "text/html": [
       "\n",
       "        <iframe\n",
       "            width=\"860\"\n",
       "            height=\"500\"\n",
       "            src=\"plano_tomas.pdf\"\n",
       "            frameborder=\"0\"\n",
       "            allowfullscreen\n",
       "            \n",
       "        ></iframe>\n",
       "        "
      ],
      "text/plain": [
       "<IPython.lib.display.IFrame at 0x270b8cbfe50>"
      ]
     },
     "execution_count": 6,
     "metadata": {},
     "output_type": "execute_result"
    }
   ],
   "source": [
    "from IPython.display import IFrame\n",
    "IFrame(\"plano_tomas.pdf\", width=860, height=500)"
   ]
  },
  {
   "cell_type": "markdown",
   "id": "0926162d",
   "metadata": {},
   "source": [
    "<b>Descarga de archivo DWG</b>"
   ]
  },
  {
   "cell_type": "code",
   "execution_count": 7,
   "id": "8a59892e",
   "metadata": {
    "hideCode": true,
    "hidePrompt": true
   },
   "outputs": [
    {
     "data": {
      "text/html": [
       "<a href='Captación de ladera Pusacpampa 1 y 2.dwg' target='_blank'>Captación de ladera Pusacpampa 1 y 2.dwg</a><br>"
      ],
      "text/plain": [
       "C:\\Users\\USUARIO\\Documents\\Jupyter Notebooks\\SA253J 23-2\\Captación de ladera Pusacpampa 1 y 2.dwg"
      ]
     },
     "execution_count": 7,
     "metadata": {},
     "output_type": "execute_result"
    }
   ],
   "source": [
    "from IPython.display import FileLink, FileLinks\n",
    "FileLink('Captación de ladera Pusacpampa 1 y 2.dwg')"
   ]
  },
  {
   "cell_type": "markdown",
   "id": "86ddc709",
   "metadata": {},
   "source": [
    "## <FONT COLOR=\"#243DD7\">3. Diseño de Sistema de Almacenamiento y Distribución</FONT>"
   ]
  },
  {
   "cell_type": "markdown",
   "id": "aee16591",
   "metadata": {},
   "source": [
    "### <FONT COLOR=\"#243DD7\">Sistema de Almacenamiento - Reservorio 5m³</FONT>"
   ]
  },
  {
   "cell_type": "markdown",
   "id": "d9f4cec2",
   "metadata": {},
   "source": [
    "<p>El reservorio desempeña una función fundamental en el diseño del sistema de suministro de agua, tanto desde una perspectiva económica como por su relevancia en el funcionamiento hidráulico del sistema y en el mantenimiento de un servicio eficaz.</p>\n",
    "<p>Se planea construir un reservorio apoyado con una capacidad de 5 m³ en el centro poblado de Pusacpampa, que será de concreto armado con una resistencia f'c=210 kg/cm² de tipo cuadrado. Este depósito constará de dos secciones. La primera se refiere a la parte de la cuba, que tendrá una capacidad de 5 m³ y se calculó a partir del volumen de regulación (25% de Qp) para la zona rural. Además, incluirá una tapa metálica sanitaria de 0.60x0.60m con un espesor de 3/16”.</p>\n",
    "<p>La segunda sección está relacionada con la caseta de válvulas, también de concreto armado con una resistencia a la compresión de f'c=210 kg/cm² y de tipo rectangular. En esta sección se instalarán las válvulas necesarias para el control del agua, junto con sus accesorios correspondientes, tuberías de entrada, salida, limpieza y rebosadero. Asimismo, esta sección contará con una tapa metálica sanitaria de 0.60x0.60m con un espesor de 3/16”. Se han incorporado tubos de ventilación en el depósito.</p>\n",
    "<p>Adicionalmente, se construirá un cerco perimétrico con una puerta de ingreso, utilizando malla olímpica Nº10 de 2”x1.10” y perfil angular tipo “L” de 2”x2”x1/8”, con postes de tubo de fierro galvanizado de diámetro D=2”x2.5mm, los cuales se fijarán en los dados de concreto de dimensiones 0.40mx0.40mx0.50m.</p>\n",
    "A continuación, se presenta la hoja de cálculo que detalla el dimensionamiento estructural e hidráulico del depósito, así como el plano hidráulico.\n"
   ]
  },
  {
   "cell_type": "code",
   "execution_count": 8,
   "id": "fcd5c3f2",
   "metadata": {
    "hideCode": true,
    "hidePrompt": true
   },
   "outputs": [
    {
     "data": {
      "text/html": [
       "\n",
       "        <iframe\n",
       "            width=\"860\"\n",
       "            height=\"500\"\n",
       "            src=\"reservorio_calculos.pdf\"\n",
       "            frameborder=\"0\"\n",
       "            allowfullscreen\n",
       "            \n",
       "        ></iframe>\n",
       "        "
      ],
      "text/plain": [
       "<IPython.lib.display.IFrame at 0x270b8c74890>"
      ]
     },
     "execution_count": 8,
     "metadata": {},
     "output_type": "execute_result"
    }
   ],
   "source": [
    "from IPython.display import IFrame\n",
    "IFrame(\"reservorio_calculos.pdf\", width=860, height=500)"
   ]
  },
  {
   "cell_type": "code",
   "execution_count": 9,
   "id": "aa0fdde4",
   "metadata": {
    "hideCode": true,
    "hidePrompt": true
   },
   "outputs": [
    {
     "data": {
      "text/html": [
       "<a href='CH Reservorio.xlsx' target='_blank'>CH Reservorio.xlsx</a><br>"
      ],
      "text/plain": [
       "C:\\Users\\USUARIO\\Documents\\Jupyter Notebooks\\SA253J 23-2\\CH Reservorio.xlsx"
      ]
     },
     "execution_count": 9,
     "metadata": {},
     "output_type": "execute_result"
    }
   ],
   "source": [
    "from IPython.display import FileLink, FileLinks\n",
    "FileLink('CH Reservorio.xlsx')"
   ]
  },
  {
   "cell_type": "code",
   "execution_count": 10,
   "id": "b9cfa87f",
   "metadata": {
    "hideCode": true,
    "hidePrompt": true
   },
   "outputs": [
    {
     "data": {
      "text/html": [
       "\n",
       "        <iframe\n",
       "            width=\"860\"\n",
       "            height=\"500\"\n",
       "            src=\"reservorio_plano.pdf\"\n",
       "            frameborder=\"0\"\n",
       "            allowfullscreen\n",
       "            \n",
       "        ></iframe>\n",
       "        "
      ],
      "text/plain": [
       "<IPython.lib.display.IFrame at 0x270b8d16ed0>"
      ]
     },
     "execution_count": 10,
     "metadata": {},
     "output_type": "execute_result"
    }
   ],
   "source": [
    "from IPython.display import IFrame\n",
    "IFrame(\"reservorio_plano.pdf\", width=860, height=500)"
   ]
  },
  {
   "cell_type": "code",
   "execution_count": 11,
   "id": "8492249d",
   "metadata": {
    "hideCode": true,
    "hidePrompt": true
   },
   "outputs": [
    {
     "data": {
      "text/html": [
       "<a href='Reservorio Apoyado 5 m3.dwg' target='_blank'>Reservorio Apoyado 5 m3.dwg</a><br>"
      ],
      "text/plain": [
       "C:\\Users\\USUARIO\\Documents\\Jupyter Notebooks\\SA253J 23-2\\Reservorio Apoyado 5 m3.dwg"
      ]
     },
     "execution_count": 11,
     "metadata": {},
     "output_type": "execute_result"
    }
   ],
   "source": [
    "from IPython.display import FileLink, FileLinks\n",
    "FileLink('Reservorio Apoyado 5 m3.dwg')"
   ]
  },
  {
   "cell_type": "markdown",
   "id": "f9c8f7db",
   "metadata": {},
   "source": [
    "### <FONT COLOR=\"#243DD7\">Red de Distribución</FONT>"
   ]
  },
  {
   "cell_type": "markdown",
   "id": "b7c16b5e",
   "metadata": {},
   "source": [
    "<p>Se instalará tuberías de PVC en la red de distribución con un total de 1040 m, la cual está compuesta por tuberías de 1” y ½” de acuerdo con las velocidades máximas y mínimas permisibles dentro de una red de distribución.</p>\n",
    "<p>Las cantidades de gasto se han definido en base a las dotaciones y en el diseño se contempla las condiciones más desfavorables, para lo cual se analizaron las variaciones de consumo considerando en el diseño de la red el consumo máximo horario (Qmh).  Las presiones en cualquier punto de la red de distribución no exceden los 50 m.c.a. y son mayores a 5 m.c.a.  </p>\n",
    "Se presentan los cálculos hidráulicos de la red:"
   ]
  },
  {
   "cell_type": "code",
   "execution_count": 12,
   "id": "821e984d",
   "metadata": {
    "hideCode": true,
    "hidePrompt": true
   },
   "outputs": [
    {
     "data": {
      "text/html": [
       "<a href='CH Red de Distribución.xlsx' target='_blank'>CH Red de Distribución.xlsx</a><br>"
      ],
      "text/plain": [
       "C:\\Users\\USUARIO\\Documents\\Jupyter Notebooks\\SA253J 23-2\\CH Red de Distribución.xlsx"
      ]
     },
     "execution_count": 12,
     "metadata": {},
     "output_type": "execute_result"
    }
   ],
   "source": [
    "from IPython.display import FileLink, FileLinks\n",
    "FileLink('CH Red de Distribución.xlsx')"
   ]
  },
  {
   "cell_type": "markdown",
   "id": "956c3fb7",
   "metadata": {},
   "source": [
    "## <FONT COLOR=\"#243DD7\">4. Diseño de Planta de Tratamiento de Agua para Consumo Humano</FONT>"
   ]
  },
  {
   "cell_type": "markdown",
   "id": "37ab451c",
   "metadata": {},
   "source": [
    "El agua extraída proviene de un manantial, por lo cual esta no contiene altos niveles de sustancias nocivas que puedan poner en riesgo a la vida de los usuarios. Por lo tanto, no sería necesario el uso de una Planta de Tratamiento en el sistema. Sin embargo, para asegurar la potabilización del agua, se instaló un clorador con goteo con flotador en el reservorio. Se presenta el esquema de esta caseta sobre el reservorio."
   ]
  },
  {
   "cell_type": "markdown",
   "id": "597ebf04",
   "metadata": {},
   "source": [
    "<center><img src=\"caseta_cloracion.png\" style=\"width:500px;height:500px\"></center>"
   ]
  },
  {
   "cell_type": "markdown",
   "id": "ce356cb3",
   "metadata": {},
   "source": [
    "<em><b><h6 align=\"right\">Gracias.</h6></b></em>\n",
    "* <em><b><h6 align=\"left\">CONSORCIO G2-RBR SA253J</h6></b></em>\n",
    "<img align=\"left\" src=\"logo.png\" style=\"width:90px;height:90px\">"
   ]
  }
 ],
 "metadata": {
  "celltoolbar": "Hide code",
  "kernelspec": {
   "display_name": "Python 3 (ipykernel)",
   "language": "python",
   "name": "python3"
  },
  "language_info": {
   "codemirror_mode": {
    "name": "ipython",
    "version": 3
   },
   "file_extension": ".py",
   "mimetype": "text/x-python",
   "name": "python",
   "nbconvert_exporter": "python",
   "pygments_lexer": "ipython3",
   "version": "3.11.5"
  }
 },
 "nbformat": 4,
 "nbformat_minor": 5
}
